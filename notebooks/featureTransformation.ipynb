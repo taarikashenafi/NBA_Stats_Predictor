{
 "cells": [
  {
   "cell_type": "code",
   "execution_count": 6,
   "id": "6ed9177e-96d4-4fcc-9a3f-f486268fabb7",
   "metadata": {},
   "outputs": [
    {
     "name": "stdout",
     "output_type": "stream",
     "text": [
      "Missing Data:\n",
      " Unnamed: 0    0\n",
      "rk            0\n",
      "player        0\n",
      "pos           0\n",
      "age           0\n",
      "tm            0\n",
      "g             0\n",
      "gs            0\n",
      "mp            0\n",
      "fg            0\n",
      "fga           0\n",
      "fg%           0\n",
      "3p            0\n",
      "3pa           0\n",
      "3p%           0\n",
      "2p            0\n",
      "2pa           0\n",
      "2p%           0\n",
      "efg%          0\n",
      "ft            0\n",
      "fta           0\n",
      "ft%           0\n",
      "orb           0\n",
      "drb           0\n",
      "trb           0\n",
      "ast           0\n",
      "stl           0\n",
      "blk           0\n",
      "tov           0\n",
      "pf            0\n",
      "pts           0\n",
      "season        0\n",
      "dtype: int64\n",
      "Unnamed: 0      int64\n",
      "rk              int64\n",
      "player         object\n",
      "pos            object\n",
      "age             int64\n",
      "tm             object\n",
      "g               int64\n",
      "gs              int64\n",
      "mp            float64\n",
      "fg            float64\n",
      "fga           float64\n",
      "fg%           float64\n",
      "3p            float64\n",
      "3pa           float64\n",
      "3p%           float64\n",
      "2p            float64\n",
      "2pa           float64\n",
      "2p%           float64\n",
      "efg%          float64\n",
      "ft            float64\n",
      "fta           float64\n",
      "ft%           float64\n",
      "orb           float64\n",
      "drb           float64\n",
      "trb           float64\n",
      "ast           float64\n",
      "stl           float64\n",
      "blk           float64\n",
      "tov           float64\n",
      "pf            float64\n",
      "pts           float64\n",
      "season         object\n",
      "dtype: object\n"
     ]
    }
   ],
   "source": [
    "import pandas as pd\n",
    "\n",
    "# Load dataset\n",
    "nba_df = pd.read_csv(\"../data/NBA_Regular_Season_Stats_2021-2024.csv\")\n",
    "\n",
    "# Check for missing data\n",
    "missing_data = nba_df.isnull().sum()\n",
    "print(\"Missing Data:\\n\", missing_data)\n",
    "\n",
    "# Ensure correct data types\n",
    "print(nba_df.dtypes)"
   ]
  },
  {
   "cell_type": "code",
   "execution_count": 7,
   "id": "4f84876f-2502-47fa-9be5-c7eb9e7fad2d",
   "metadata": {},
   "outputs": [
    {
     "name": "stdout",
     "output_type": "stream",
     "text": [
      "         mp        fg       fga       fg%        3p       3pa       3p%  \\\n",
      "0  1.359041  1.201062  0.957005  0.591498  0.326532  0.393845  0.256714   \n",
      "1 -1.646178 -1.217984 -1.214999 -1.855072 -1.082794 -1.109771 -1.949205   \n",
      "2 -0.242356 -0.310842 -0.202803 -0.241865 -0.260687 -0.471873  0.974461   \n",
      "3 -0.252754 -0.267644 -0.244978  0.033374 -0.378131 -0.471873  0.546446   \n",
      "4 -0.252754 -0.267644 -0.287153  0.186285 -0.378131 -0.471873  0.309392   \n",
      "\n",
      "         2p       2pa       2p%  ...       ft%       orb       drb       trb  \\\n",
      "0  1.355118  1.143108  0.600868  ...  0.225343  1.188545  0.959505  1.102792   \n",
      "1 -1.028433 -0.977660 -1.584704  ... -2.653347 -1.120332 -1.323065 -1.353316   \n",
      "2 -0.270031  0.022130 -0.673536  ...  0.984728 -0.169618 -0.410037 -0.362255   \n",
      "3 -0.161687 -0.068760 -0.187169  ...  0.709644 -0.577067 -0.524165 -0.620793   \n",
      "4 -0.107516 -0.099056  0.102189  ...  0.446184 -0.848699 -0.638294 -0.750061   \n",
      "\n",
      "        ast       stl       blk       tov        pf       pts  \n",
      "0  0.319134  0.024519  0.614407  1.014634  0.552412  1.059631  \n",
      "1 -1.037405 -1.457265 -0.182604 -0.874228 -1.573744 -1.231344  \n",
      "2  0.807488  0.518447 -0.979614  0.385013 -0.072928 -0.218328  \n",
      "3  0.264872  0.271483 -0.713944  0.133165 -0.072928 -0.296252  \n",
      "4 -0.006435  0.024519 -0.448274  0.007241 -0.072928 -0.327422  \n",
      "\n",
      "[5 rows x 23 columns]\n"
     ]
    }
   ],
   "source": [
    "from sklearn.preprocessing import StandardScaler\n",
    "\n",
    "# Standardize relevant columns\n",
    "scaler = StandardScaler()\n",
    "\n",
    "numeric_columns = ['mp', 'fg', 'fga', 'fg%', '3p', '3pa', '3p%', \n",
    "                   '2p', '2pa', '2p%', 'efg%', 'ft', 'fta', \n",
    "                   'ft%', 'orb', 'drb', 'trb', 'ast', \n",
    "                   'stl', 'blk', 'tov', 'pf', 'pts']\n",
    "\n",
    "nba_df[numeric_columns] = scaler.fit_transform(nba_df[numeric_columns])\n",
    "print(nba_df[numeric_columns].head())"
   ]
  },
  {
   "cell_type": "code",
   "execution_count": 8,
   "id": "29b8a763-4264-4592-83ff-aa1adbf2b142",
   "metadata": {},
   "outputs": [
    {
     "name": "stdout",
     "output_type": "stream",
     "text": [
      "        pts        fg       fga        3p        ft       orb       trb  \\\n",
      "0  0.722527  0.788940  0.671415  0.282568  0.576990  0.783237  0.743266   \n",
      "1       NaN       NaN       NaN       NaN -2.497917       NaN       NaN   \n",
      "2 -0.246320 -0.372284 -0.226653 -0.302034  0.109817 -0.185869 -0.449816   \n",
      "3 -0.351336 -0.311489 -0.281008 -0.475026 -0.291886 -0.860541 -0.969672   \n",
      "4 -0.396637 -0.311489 -0.338488 -0.475026 -0.512218 -1.888486 -1.386540   \n",
      "\n",
      "        ast       stl       blk       tov        pf  \n",
      "0  0.276975  0.024223  0.478968  0.700438  0.439810  \n",
      "1       NaN       NaN -0.201631 -2.073285       NaN  \n",
      "2  0.591938  0.417688 -3.892915  0.325710 -0.075724  \n",
      "3  0.234971  0.240184 -1.251568  0.125015 -0.075724  \n",
      "4 -0.006456  0.024223 -0.594703  0.007215 -0.075724  \n"
     ]
    },
    {
     "name": "stderr",
     "output_type": "stream",
     "text": [
      "/Users/taarik/Desktop/CodingProjects/NBA_Stats_Predictor/.venv/lib/python3.9/site-packages/pandas/core/arraylike.py:399: RuntimeWarning: invalid value encountered in log1p\n",
      "  result = getattr(ufunc, method)(*inputs, **kwargs)\n"
     ]
    }
   ],
   "source": [
    "import numpy as np\n",
    "\n",
    "# Apply log transformation to selected columns\n",
    "log_columns = ['pts', 'fg', 'fga', '3p', 'ft', 'orb', 'trb', 'ast', 'stl', 'blk', 'tov', 'pf']  # Add any other skewed columns\n",
    "\n",
    "for col in log_columns:\n",
    "    nba_df[col] = np.log1p(nba_df[col])  # log1p is used to handle zero values\n",
    "print(nba_df[log_columns].head())"
   ]
  },
  {
   "cell_type": "code",
   "execution_count": null,
   "id": "f8835745-cf42-46f3-bf8c-627e4ccdb15a",
   "metadata": {},
   "outputs": [],
   "source": []
  }
 ],
 "metadata": {
  "kernelspec": {
   "display_name": "Python 3 (ipykernel)",
   "language": "python",
   "name": "python3"
  },
  "language_info": {
   "codemirror_mode": {
    "name": "ipython",
    "version": 3
   },
   "file_extension": ".py",
   "mimetype": "text/x-python",
   "name": "python",
   "nbconvert_exporter": "python",
   "pygments_lexer": "ipython3",
   "version": "3.9.6"
  }
 },
 "nbformat": 4,
 "nbformat_minor": 5
}
